{
 "cells": [
  {
   "cell_type": "code",
   "execution_count": 1,
   "id": "529f443b",
   "metadata": {},
   "outputs": [],
   "source": [
    "import pandas as pd\n",
    "import requests"
   ]
  },
  {
   "cell_type": "code",
   "execution_count": 2,
   "id": "144f07d1",
   "metadata": {},
   "outputs": [],
   "source": [
    "from bs4 import BeautifulSoup"
   ]
  },
  {
   "cell_type": "code",
   "execution_count": 3,
   "id": "bd9735d6",
   "metadata": {},
   "outputs": [
    {
     "data": {
      "text/plain": [
       "'<HTML><HEAD>\\n<TITLE>Access Denied</TITLE>\\n</HEAD><BODY>\\n<H1>Access Denied</H1>\\n \\nYou don\\'t have permission to access \"http&#58;&#47;&#47;www&#46;ambitionbox&#46;com&#47;list&#45;of&#45;companies&#63;\" on this server.<P>\\nReference&#32;&#35;18&#46;5f43017&#46;1672938560&#46;1bdfc35f\\n</BODY>\\n</HTML>\\n'"
      ]
     },
     "execution_count": 3,
     "metadata": {},
     "output_type": "execute_result"
    }
   ],
   "source": [
    "requests.get('https://www.ambitionbox.com/list-of-companies?campaign=desktop_nav').text"
   ]
  },
  {
   "cell_type": "code",
   "execution_count": 4,
   "id": "62a74fc4",
   "metadata": {},
   "outputs": [],
   "source": [
    "# we are fetching the web page view source \n",
    "headers={'User-Agent':'Mozilla/5.0 (Windows NT 6.3; Win 64 ; x64) Apple WeKit /537.36(KHTML , like Gecko) Chrome/80.0.3987.162 Safari/537.36'}\n",
    "webview = requests.get('https://www.ambitionbox.com/list-of-companies?campaign=desktop_nav', headers = headers).text"
   ]
  },
  {
   "cell_type": "code",
   "execution_count": 5,
   "id": "1d892b21",
   "metadata": {},
   "outputs": [],
   "source": [
    "# webview"
   ]
  },
  {
   "cell_type": "code",
   "execution_count": 6,
   "id": "3377c3a4",
   "metadata": {},
   "outputs": [
    {
     "name": "stdout",
     "output_type": "stream",
     "text": [
      "Defaulting to user installation because normal site-packages is not writeable\n",
      "Requirement already satisfied: lxml in c:\\users\\sudhanshu\\appdata\\roaming\\python\\python37\\site-packages (4.9.2)\n"
     ]
    }
   ],
   "source": [
    "# soup = BeautifulSoup(webview,'lxml')\n",
    "!pip install lxml"
   ]
  },
  {
   "cell_type": "code",
   "execution_count": 7,
   "id": "cdecb0f6",
   "metadata": {
    "scrolled": false
   },
   "outputs": [],
   "source": [
    "import lxml\n",
    "soup = BeautifulSoup(webview,\"html.parser\")"
   ]
  },
  {
   "cell_type": "code",
   "execution_count": 8,
   "id": "65890958",
   "metadata": {},
   "outputs": [],
   "source": [
    "# print(soup.prettify())"
   ]
  },
  {
   "cell_type": "code",
   "execution_count": 9,
   "id": "0b12dfac",
   "metadata": {},
   "outputs": [
    {
     "data": {
      "text/plain": [
       "34"
      ]
     },
     "execution_count": 9,
     "metadata": {},
     "output_type": "execute_result"
    }
   ],
   "source": [
    "len(soup.find_all('h2'))"
   ]
  },
  {
   "cell_type": "code",
   "execution_count": 10,
   "id": "f94eb9f2",
   "metadata": {},
   "outputs": [
    {
     "data": {
      "text/plain": [
       "'List of companies in India'"
      ]
     },
     "execution_count": 10,
     "metadata": {},
     "output_type": "execute_result"
    }
   ],
   "source": [
    "soup.find_all('h1')[0].text"
   ]
  },
  {
   "cell_type": "code",
   "execution_count": 11,
   "id": "5c15b769",
   "metadata": {},
   "outputs": [
    {
     "name": "stdout",
     "output_type": "stream",
     "text": [
      "TCS\n",
      "Accenture\n",
      "Cognizant\n",
      "ICICI Bank\n",
      "HDFC Bank\n",
      "Wipro\n",
      "Infosys\n",
      "Capgemini\n",
      "Tech Mahindra\n",
      "Genpact\n",
      "HCLTech\n",
      "Amazon\n",
      "Axis Bank\n",
      "IBM\n",
      "Concentrix Corpo...\n",
      "Reliance jio\n",
      "Larsen & Toubro ...\n",
      "HDB Financial Se...\n",
      "Vodafone Idea\n",
      "Teleperformance\n",
      "Kotak Mahindra B...\n",
      "Reliance Retail\n",
      "Deloitte\n",
      "Reliance Industr...\n",
      "Bharti Airtel\n",
      "Tata Motors\n",
      "BYJU'S\n",
      "Flipkart\n",
      "WNS\n",
      "Mahindra & Mahin...\n",
      "\n",
      "\n",
      "\n",
      "\n"
     ]
    }
   ],
   "source": [
    "for i in soup.find_all('h2'):\n",
    "    print(i.text.strip())"
   ]
  },
  {
   "cell_type": "code",
   "execution_count": 12,
   "id": "15484e76",
   "metadata": {},
   "outputs": [],
   "source": [
    "# for i in range(1,200):\n",
    "#    headers={'User-Agent':'Mozilla/5.0 (Windows NT 6.3; Win 64 ; x64) Apple WeKit /537.36(KHTML , like Gecko) Chrome/80.0.3987.162 Safari/537.36'}\n",
    "#    webview = requests.get('https://www.ambitionbox.com/list-of-companies?campaign=desktop_nav&page={}'.format(i), headers = headers).text\n",
    "    "
   ]
  },
  {
   "cell_type": "code",
   "execution_count": 13,
   "id": "7daf180c",
   "metadata": {},
   "outputs": [
    {
     "data": {
      "text/plain": [
       "30"
      ]
     },
     "execution_count": 13,
     "metadata": {},
     "output_type": "execute_result"
    }
   ],
   "source": [
    "len(soup.find_all('p', class_= 'rating'))"
   ]
  },
  {
   "cell_type": "code",
   "execution_count": 14,
   "id": "f1d8887e",
   "metadata": {},
   "outputs": [],
   "source": [
    "company = soup.find_all('div',class_='company-content-wrapper')"
   ]
  },
  {
   "cell_type": "code",
   "execution_count": 15,
   "id": "45b122e4",
   "metadata": {},
   "outputs": [
    {
     "data": {
      "text/plain": [
       "30"
      ]
     },
     "execution_count": 15,
     "metadata": {},
     "output_type": "execute_result"
    }
   ],
   "source": [
    "len(company)"
   ]
  },
  {
   "cell_type": "code",
   "execution_count": 33,
   "id": "a6aced8a",
   "metadata": {},
   "outputs": [],
   "source": [
    "company_name = []\n",
    "ratings = []\n",
    "reviews = []\n",
    "sector = []               # 0\n",
    "head_quarter = []         # 1\n",
    "years = []                # 2\n",
    "employees = []             # 3\n",
    "\n",
    "for i in company :\n",
    "    company_name.append(i.find('h2').text.strip())\n",
    "    ratings.append(i.find('p', class_='rating').text.strip())\n",
    "    reviews.append(i.find('a', class_='review-count').text.strip())\n",
    "    sector.append(i.find_all('p',class_='infoEntity')[0].text.strip())\n",
    "    head_quarter.append(i.find_all('p',class_='infoEntity')[1].text.strip())\n",
    "    years.append(i.find_all('p',class_='infoEntity')[2].text.strip())\n",
    "    employees.append(i.find_all('p',class_='infoEntity')[3].text.strip())\n",
    "dataset = pd.DataFrame({'company_name':company_name,'ratings':ratings,'reviews':reviews,\n",
    "          'company_type':sector,'main_office':head_quarter,'old':years,'employees':employees})"
   ]
  },
  {
   "cell_type": "code",
   "execution_count": 35,
   "id": "350d3ef0",
   "metadata": {},
   "outputs": [
    {
     "data": {
      "text/html": [
       "<div>\n",
       "<style scoped>\n",
       "    .dataframe tbody tr th:only-of-type {\n",
       "        vertical-align: middle;\n",
       "    }\n",
       "\n",
       "    .dataframe tbody tr th {\n",
       "        vertical-align: top;\n",
       "    }\n",
       "\n",
       "    .dataframe thead th {\n",
       "        text-align: right;\n",
       "    }\n",
       "</style>\n",
       "<table border=\"1\" class=\"dataframe\">\n",
       "  <thead>\n",
       "    <tr style=\"text-align: right;\">\n",
       "      <th></th>\n",
       "      <th>company_name</th>\n",
       "      <th>ratings</th>\n",
       "      <th>reviews</th>\n",
       "      <th>company_type</th>\n",
       "      <th>main_office</th>\n",
       "      <th>old</th>\n",
       "      <th>employees</th>\n",
       "    </tr>\n",
       "  </thead>\n",
       "  <tbody>\n",
       "    <tr>\n",
       "      <th>0</th>\n",
       "      <td>TCS</td>\n",
       "      <td>3.9</td>\n",
       "      <td>(50.1k Reviews)</td>\n",
       "      <td>Public</td>\n",
       "      <td>Mumbai,Maharashtra + 269 more</td>\n",
       "      <td>55 years old</td>\n",
       "      <td>1 Lakh+ Employees (India)</td>\n",
       "    </tr>\n",
       "    <tr>\n",
       "      <th>1</th>\n",
       "      <td>Accenture</td>\n",
       "      <td>4.1</td>\n",
       "      <td>(32.1k Reviews)</td>\n",
       "      <td>Public</td>\n",
       "      <td>Dublin + 131 more</td>\n",
       "      <td>34 years old</td>\n",
       "      <td>1 Lakh+ Employees (India)</td>\n",
       "    </tr>\n",
       "    <tr>\n",
       "      <th>2</th>\n",
       "      <td>Cognizant</td>\n",
       "      <td>4.0</td>\n",
       "      <td>(29.5k Reviews)</td>\n",
       "      <td>Private</td>\n",
       "      <td>Teaneck. New Jersey. + 101 more</td>\n",
       "      <td>29 years old</td>\n",
       "      <td>1 Lakh+ Employees (India)</td>\n",
       "    </tr>\n",
       "    <tr>\n",
       "      <th>3</th>\n",
       "      <td>ICICI Bank</td>\n",
       "      <td>4.0</td>\n",
       "      <td>(33.4k Reviews)</td>\n",
       "      <td>Public</td>\n",
       "      <td>Mumbai,Maharashtra + 1055 more</td>\n",
       "      <td>29 years old</td>\n",
       "      <td>1 Lakh+ Employees (India)</td>\n",
       "    </tr>\n",
       "    <tr>\n",
       "      <th>4</th>\n",
       "      <td>HDFC Bank</td>\n",
       "      <td>4.0</td>\n",
       "      <td>(39k Reviews)</td>\n",
       "      <td>Public</td>\n",
       "      <td>Mumbai,Maharashtra + 1240 more</td>\n",
       "      <td>29 years old</td>\n",
       "      <td>50k-1 Lakh Employees (India)</td>\n",
       "    </tr>\n",
       "  </tbody>\n",
       "</table>\n",
       "</div>"
      ],
      "text/plain": [
       "  company_name ratings          reviews company_type  \\\n",
       "0          TCS     3.9  (50.1k Reviews)       Public   \n",
       "1    Accenture     4.1  (32.1k Reviews)       Public   \n",
       "2    Cognizant     4.0  (29.5k Reviews)      Private   \n",
       "3   ICICI Bank     4.0  (33.4k Reviews)       Public   \n",
       "4    HDFC Bank     4.0    (39k Reviews)       Public   \n",
       "\n",
       "                       main_office           old                     employees  \n",
       "0    Mumbai,Maharashtra + 269 more  55 years old     1 Lakh+ Employees (India)  \n",
       "1                Dublin + 131 more  34 years old     1 Lakh+ Employees (India)  \n",
       "2  Teaneck. New Jersey. + 101 more  29 years old     1 Lakh+ Employees (India)  \n",
       "3   Mumbai,Maharashtra + 1055 more  29 years old     1 Lakh+ Employees (India)  \n",
       "4   Mumbai,Maharashtra + 1240 more  29 years old  50k-1 Lakh Employees (India)  "
      ]
     },
     "execution_count": 35,
     "metadata": {},
     "output_type": "execute_result"
    }
   ],
   "source": [
    "dataset.head()"
   ]
  },
  {
   "cell_type": "code",
   "execution_count": null,
   "id": "a702da31",
   "metadata": {},
   "outputs": [],
   "source": [
    "# let's run this for all pages"
   ]
  },
  {
   "cell_type": "code",
   "execution_count": 88,
   "id": "07af9a24",
   "metadata": {},
   "outputs": [],
   "source": [
    "import numpy as np"
   ]
  },
  {
   "cell_type": "code",
   "execution_count": 89,
   "id": "6a581c4e",
   "metadata": {},
   "outputs": [],
   "source": [
    "final=pd.DataFrame()\n",
    "for j in range(1,1001):\n",
    "    headers={'User-Agent':'Mozilla/5.0 (Windows NT 6.3; Win 64 ; x64) Apple WeKit /537.36(KHTML , like Gecko) Chrome/80.0.3987.162 Safari/537.36'}\n",
    "    webview = requests.get('https://www.ambitionbox.com/list-of-companies?campaign=desktop_nav&page={}'.format(j), headers = headers).text\n",
    "    soup=BeautifulSoup(webpage,'html.parser')\n",
    "    company=soup.find_all('div',class_='company-content-wrapper')\n",
    "    name=[]\n",
    "    rating=[]\n",
    "    reviews=[]\n",
    "    ctype=[]\n",
    "    hq=[]\n",
    "    how_old=[]\n",
    "    no_of_employee=[]\n",
    "    \n",
    "    for i in company:\n",
    "        try:\n",
    "            name.append(i.find('h2').text.strip())\n",
    "        except:\n",
    "            name.append(np.nan)\n",
    "        try:\n",
    "            rating.append(i.find('p',class_='rating').text.strip())\n",
    "        except:\n",
    "            rating.append(np.nan)\n",
    "        try:\n",
    "            reviews.append(i.find('a' , class_='review-count').text.strip())\n",
    "        except:\n",
    "            reviews.append(np.nan)\n",
    "\n",
    "        try:\n",
    "            ctype.append(i.find_all('p',class_='infoEntity')[0].text.strip())\n",
    "        except:\n",
    "            ctype.append(np.nan)\n",
    "        try:\n",
    "            hq.append(i.find_all('p',class_='infoEntity')[1].text.strip())\n",
    "        except:\n",
    "            hq.append(np.nan)\n",
    "        try:\n",
    "            how_old.append(i.find_all('p',class_='infoEntity')[2].text.strip())\n",
    "        except:\n",
    "            how_old.append(np.nan)\n",
    "        try:\n",
    "            no_of_employee.append(i.find_all('p',class_='infoEntity')[3].text.strip())\n",
    "        except:\n",
    "            no_of_employee.append(np.nan)\n",
    "\n",
    "\n",
    "    df=pd.DataFrame({'name':name,\n",
    "    'rating':rating,\n",
    "    'reviews':reviews,\n",
    "    'company_type':ctype,\n",
    "    'Head_Quarters':hq,\n",
    "    'Company_Age':how_old,\n",
    "    'No_of_Employee':no_of_employee,\n",
    "    })\n",
    "    final=final.append(df,ignore_index=True)"
   ]
  },
  {
   "cell_type": "code",
   "execution_count": 90,
   "id": "523aaa9c",
   "metadata": {},
   "outputs": [
    {
     "data": {
      "text/html": [
       "<div>\n",
       "<style scoped>\n",
       "    .dataframe tbody tr th:only-of-type {\n",
       "        vertical-align: middle;\n",
       "    }\n",
       "\n",
       "    .dataframe tbody tr th {\n",
       "        vertical-align: top;\n",
       "    }\n",
       "\n",
       "    .dataframe thead th {\n",
       "        text-align: right;\n",
       "    }\n",
       "</style>\n",
       "<table border=\"1\" class=\"dataframe\">\n",
       "  <thead>\n",
       "    <tr style=\"text-align: right;\">\n",
       "      <th></th>\n",
       "      <th>name</th>\n",
       "      <th>rating</th>\n",
       "      <th>reviews</th>\n",
       "      <th>company_type</th>\n",
       "      <th>Head_Quarters</th>\n",
       "      <th>Company_Age</th>\n",
       "      <th>No_of_Employee</th>\n",
       "    </tr>\n",
       "  </thead>\n",
       "  <tbody>\n",
       "    <tr>\n",
       "      <th>0</th>\n",
       "      <td>IndusInd Bank</td>\n",
       "      <td>3.8</td>\n",
       "      <td>(6.6k Reviews)</td>\n",
       "      <td>Public</td>\n",
       "      <td>Gurgaon/Gurugram,Haryana + 556 more</td>\n",
       "      <td>29 years old</td>\n",
       "      <td>10k-50k Employees (India)</td>\n",
       "    </tr>\n",
       "    <tr>\n",
       "      <th>1</th>\n",
       "      <td>Ernst &amp; Young</td>\n",
       "      <td>3.8</td>\n",
       "      <td>(6.2k Reviews)</td>\n",
       "      <td>Private</td>\n",
       "      <td>London + 72 more</td>\n",
       "      <td>21 years old</td>\n",
       "      <td>10k-50k Employees (India)</td>\n",
       "    </tr>\n",
       "    <tr>\n",
       "      <th>2</th>\n",
       "      <td>DXC Technology</td>\n",
       "      <td>3.9</td>\n",
       "      <td>(7k Reviews)</td>\n",
       "      <td>Public</td>\n",
       "      <td>Minato,Tokyo + 55 more</td>\n",
       "      <td>6 years old</td>\n",
       "      <td>10k-50k Employees (India)</td>\n",
       "    </tr>\n",
       "    <tr>\n",
       "      <th>3</th>\n",
       "      <td>Hinduja Global S...</td>\n",
       "      <td>4.0</td>\n",
       "      <td>(6k Reviews)</td>\n",
       "      <td>Public</td>\n",
       "      <td>Bangalore/Bengaluru,Karnataka + 72 more</td>\n",
       "      <td>23 years old</td>\n",
       "      <td>10k-50k Employees (India)</td>\n",
       "    </tr>\n",
       "    <tr>\n",
       "      <th>4</th>\n",
       "      <td>Infosys BPM</td>\n",
       "      <td>4.0</td>\n",
       "      <td>(5.8k Reviews)</td>\n",
       "      <td>Bangalore/Bengaluru,Karnataka + 48 more</td>\n",
       "      <td>21 years old</td>\n",
       "      <td>10k-50k Employees (India)</td>\n",
       "      <td>NaN</td>\n",
       "    </tr>\n",
       "    <tr>\n",
       "      <th>...</th>\n",
       "      <td>...</td>\n",
       "      <td>...</td>\n",
       "      <td>...</td>\n",
       "      <td>...</td>\n",
       "      <td>...</td>\n",
       "      <td>...</td>\n",
       "      <td>...</td>\n",
       "    </tr>\n",
       "    <tr>\n",
       "      <th>29995</th>\n",
       "      <td>PwC</td>\n",
       "      <td>3.8</td>\n",
       "      <td>(4.2k Reviews)</td>\n",
       "      <td>Partnership</td>\n",
       "      <td>London + 63 more</td>\n",
       "      <td>25 years old</td>\n",
       "      <td>10k-50k Employees (India)</td>\n",
       "    </tr>\n",
       "    <tr>\n",
       "      <th>29996</th>\n",
       "      <td>EXL Service</td>\n",
       "      <td>3.9</td>\n",
       "      <td>(5.2k Reviews)</td>\n",
       "      <td>Private</td>\n",
       "      <td>New York City,New York + 32 more</td>\n",
       "      <td>24 years old</td>\n",
       "      <td>10k-50k Employees (India)</td>\n",
       "    </tr>\n",
       "    <tr>\n",
       "      <th>29997</th>\n",
       "      <td>iEnergizer</td>\n",
       "      <td>4.2</td>\n",
       "      <td>(4k Reviews)</td>\n",
       "      <td>Private</td>\n",
       "      <td>Noida,Uttar Pradesh + 15 more</td>\n",
       "      <td>23 years old</td>\n",
       "      <td>10k-50k Employees (India)</td>\n",
       "    </tr>\n",
       "    <tr>\n",
       "      <th>29998</th>\n",
       "      <td>Indian Army</td>\n",
       "      <td>4.7</td>\n",
       "      <td>(4k Reviews)</td>\n",
       "      <td>Public</td>\n",
       "      <td>New Delhi,Delhi + 267 more</td>\n",
       "      <td>128 years old</td>\n",
       "      <td>1 Lakh+ Employees (India)</td>\n",
       "    </tr>\n",
       "    <tr>\n",
       "      <th>29999</th>\n",
       "      <td>L&amp;T Infotech</td>\n",
       "      <td>3.8</td>\n",
       "      <td>(4k Reviews)</td>\n",
       "      <td>Public</td>\n",
       "      <td>Mumbai,Maharashtra + 66 more</td>\n",
       "      <td>27 years old</td>\n",
       "      <td>10k-50k Employees (India)</td>\n",
       "    </tr>\n",
       "  </tbody>\n",
       "</table>\n",
       "<p>30000 rows × 7 columns</p>\n",
       "</div>"
      ],
      "text/plain": [
       "                      name rating         reviews  \\\n",
       "0            IndusInd Bank    3.8  (6.6k Reviews)   \n",
       "1            Ernst & Young    3.8  (6.2k Reviews)   \n",
       "2           DXC Technology    3.9    (7k Reviews)   \n",
       "3      Hinduja Global S...    4.0    (6k Reviews)   \n",
       "4              Infosys BPM    4.0  (5.8k Reviews)   \n",
       "...                    ...    ...             ...   \n",
       "29995                  PwC    3.8  (4.2k Reviews)   \n",
       "29996          EXL Service    3.9  (5.2k Reviews)   \n",
       "29997           iEnergizer    4.2    (4k Reviews)   \n",
       "29998          Indian Army    4.7    (4k Reviews)   \n",
       "29999         L&T Infotech    3.8    (4k Reviews)   \n",
       "\n",
       "                                  company_type  \\\n",
       "0                                       Public   \n",
       "1                                      Private   \n",
       "2                                       Public   \n",
       "3                                       Public   \n",
       "4      Bangalore/Bengaluru,Karnataka + 48 more   \n",
       "...                                        ...   \n",
       "29995                              Partnership   \n",
       "29996                                  Private   \n",
       "29997                                  Private   \n",
       "29998                                   Public   \n",
       "29999                                   Public   \n",
       "\n",
       "                                 Head_Quarters                Company_Age  \\\n",
       "0          Gurgaon/Gurugram,Haryana + 556 more               29 years old   \n",
       "1                             London + 72 more               21 years old   \n",
       "2                       Minato,Tokyo + 55 more                6 years old   \n",
       "3      Bangalore/Bengaluru,Karnataka + 72 more               23 years old   \n",
       "4                                 21 years old  10k-50k Employees (India)   \n",
       "...                                        ...                        ...   \n",
       "29995                         London + 63 more               25 years old   \n",
       "29996         New York City,New York + 32 more               24 years old   \n",
       "29997            Noida,Uttar Pradesh + 15 more               23 years old   \n",
       "29998               New Delhi,Delhi + 267 more              128 years old   \n",
       "29999             Mumbai,Maharashtra + 66 more               27 years old   \n",
       "\n",
       "                  No_of_Employee  \n",
       "0      10k-50k Employees (India)  \n",
       "1      10k-50k Employees (India)  \n",
       "2      10k-50k Employees (India)  \n",
       "3      10k-50k Employees (India)  \n",
       "4                            NaN  \n",
       "...                          ...  \n",
       "29995  10k-50k Employees (India)  \n",
       "29996  10k-50k Employees (India)  \n",
       "29997  10k-50k Employees (India)  \n",
       "29998  1 Lakh+ Employees (India)  \n",
       "29999  10k-50k Employees (India)  \n",
       "\n",
       "[30000 rows x 7 columns]"
      ]
     },
     "execution_count": 90,
     "metadata": {},
     "output_type": "execute_result"
    }
   ],
   "source": [
    "final"
   ]
  },
  {
   "cell_type": "code",
   "execution_count": 92,
   "id": "640fd6c7",
   "metadata": {},
   "outputs": [
    {
     "data": {
      "text/plain": [
       "(30000, 7)"
      ]
     },
     "execution_count": 92,
     "metadata": {},
     "output_type": "execute_result"
    }
   ],
   "source": [
    "final.shape"
   ]
  },
  {
   "cell_type": "code",
   "execution_count": null,
   "id": "df2b0d60",
   "metadata": {},
   "outputs": [],
   "source": []
  },
  {
   "cell_type": "code",
   "execution_count": 96,
   "id": "166362dc",
   "metadata": {},
   "outputs": [],
   "source": [
    "final.to_csv('Company_dataset.csv')"
   ]
  },
  {
   "cell_type": "code",
   "execution_count": 2,
   "id": "6777908d",
   "metadata": {},
   "outputs": [],
   "source": [
    "import pandas as pd"
   ]
  },
  {
   "cell_type": "code",
   "execution_count": 20,
   "id": "2e7ccfd4",
   "metadata": {},
   "outputs": [
    {
     "ename": "TypeError",
     "evalue": "read_csv() got an unexpected keyword argument 'axis'",
     "output_type": "error",
     "traceback": [
      "\u001b[1;31m---------------------------------------------------------------------------\u001b[0m",
      "\u001b[1;31mTypeError\u001b[0m                                 Traceback (most recent call last)",
      "\u001b[1;32m~\\AppData\\Local\\Temp\\ipykernel_20280\\2100376973.py\u001b[0m in \u001b[0;36m<module>\u001b[1;34m\u001b[0m\n\u001b[1;32m----> 1\u001b[1;33m \u001b[0mdf\u001b[0m \u001b[1;33m=\u001b[0m \u001b[0mpd\u001b[0m\u001b[1;33m.\u001b[0m\u001b[0mread_csv\u001b[0m\u001b[1;33m(\u001b[0m\u001b[1;34m'Company_dataset.csv'\u001b[0m\u001b[1;33m,\u001b[0m \u001b[0maxis\u001b[0m \u001b[1;33m=\u001b[0m \u001b[1;36m0\u001b[0m\u001b[1;33m)\u001b[0m\u001b[1;33m\u001b[0m\u001b[1;33m\u001b[0m\u001b[0m\n\u001b[0m",
      "\u001b[1;32m~\\anaconda3\\lib\\site-packages\\pandas\\util\\_decorators.py\u001b[0m in \u001b[0;36mwrapper\u001b[1;34m(*args, **kwargs)\u001b[0m\n\u001b[0;32m    309\u001b[0m                     \u001b[0mstacklevel\u001b[0m\u001b[1;33m=\u001b[0m\u001b[0mstacklevel\u001b[0m\u001b[1;33m,\u001b[0m\u001b[1;33m\u001b[0m\u001b[1;33m\u001b[0m\u001b[0m\n\u001b[0;32m    310\u001b[0m                 )\n\u001b[1;32m--> 311\u001b[1;33m             \u001b[1;32mreturn\u001b[0m \u001b[0mfunc\u001b[0m\u001b[1;33m(\u001b[0m\u001b[1;33m*\u001b[0m\u001b[0margs\u001b[0m\u001b[1;33m,\u001b[0m \u001b[1;33m**\u001b[0m\u001b[0mkwargs\u001b[0m\u001b[1;33m)\u001b[0m\u001b[1;33m\u001b[0m\u001b[1;33m\u001b[0m\u001b[0m\n\u001b[0m\u001b[0;32m    312\u001b[0m \u001b[1;33m\u001b[0m\u001b[0m\n\u001b[0;32m    313\u001b[0m         \u001b[1;32mreturn\u001b[0m \u001b[0mwrapper\u001b[0m\u001b[1;33m\u001b[0m\u001b[1;33m\u001b[0m\u001b[0m\n",
      "\u001b[1;31mTypeError\u001b[0m: read_csv() got an unexpected keyword argument 'axis'"
     ]
    }
   ],
   "source": [
    "df = pd.read_csv('Company_dataset.csv')"
   ]
  },
  {
   "cell_type": "code",
   "execution_count": 24,
   "id": "3bf46326",
   "metadata": {},
   "outputs": [
    {
     "data": {
      "text/html": [
       "<div>\n",
       "<style scoped>\n",
       "    .dataframe tbody tr th:only-of-type {\n",
       "        vertical-align: middle;\n",
       "    }\n",
       "\n",
       "    .dataframe tbody tr th {\n",
       "        vertical-align: top;\n",
       "    }\n",
       "\n",
       "    .dataframe thead th {\n",
       "        text-align: right;\n",
       "    }\n",
       "</style>\n",
       "<table border=\"1\" class=\"dataframe\">\n",
       "  <thead>\n",
       "    <tr style=\"text-align: right;\">\n",
       "      <th></th>\n",
       "      <th>Unnamed: 0</th>\n",
       "      <th>name</th>\n",
       "      <th>rating</th>\n",
       "      <th>reviews</th>\n",
       "      <th>company_type</th>\n",
       "      <th>Head_Quarters</th>\n",
       "      <th>Company_Age</th>\n",
       "      <th>No_of_Employee</th>\n",
       "    </tr>\n",
       "  </thead>\n",
       "  <tbody>\n",
       "    <tr>\n",
       "      <th>0</th>\n",
       "      <td>0</td>\n",
       "      <td>IndusInd Bank</td>\n",
       "      <td>3.8</td>\n",
       "      <td>(6.6k Reviews)</td>\n",
       "      <td>Public</td>\n",
       "      <td>Gurgaon/Gurugram,Haryana + 556 more</td>\n",
       "      <td>29 years old</td>\n",
       "      <td>10k-50k Employees (India)</td>\n",
       "    </tr>\n",
       "    <tr>\n",
       "      <th>1</th>\n",
       "      <td>1</td>\n",
       "      <td>Ernst &amp; Young</td>\n",
       "      <td>3.8</td>\n",
       "      <td>(6.2k Reviews)</td>\n",
       "      <td>Private</td>\n",
       "      <td>London + 72 more</td>\n",
       "      <td>21 years old</td>\n",
       "      <td>10k-50k Employees (India)</td>\n",
       "    </tr>\n",
       "    <tr>\n",
       "      <th>2</th>\n",
       "      <td>2</td>\n",
       "      <td>DXC Technology</td>\n",
       "      <td>3.9</td>\n",
       "      <td>(7k Reviews)</td>\n",
       "      <td>Public</td>\n",
       "      <td>Minato,Tokyo + 55 more</td>\n",
       "      <td>6 years old</td>\n",
       "      <td>10k-50k Employees (India)</td>\n",
       "    </tr>\n",
       "    <tr>\n",
       "      <th>3</th>\n",
       "      <td>3</td>\n",
       "      <td>Hinduja Global S...</td>\n",
       "      <td>4.0</td>\n",
       "      <td>(6k Reviews)</td>\n",
       "      <td>Public</td>\n",
       "      <td>Bangalore/Bengaluru,Karnataka + 72 more</td>\n",
       "      <td>23 years old</td>\n",
       "      <td>10k-50k Employees (India)</td>\n",
       "    </tr>\n",
       "    <tr>\n",
       "      <th>4</th>\n",
       "      <td>4</td>\n",
       "      <td>Infosys BPM</td>\n",
       "      <td>4.0</td>\n",
       "      <td>(5.8k Reviews)</td>\n",
       "      <td>Bangalore/Bengaluru,Karnataka + 48 more</td>\n",
       "      <td>21 years old</td>\n",
       "      <td>10k-50k Employees (India)</td>\n",
       "      <td>NaN</td>\n",
       "    </tr>\n",
       "  </tbody>\n",
       "</table>\n",
       "</div>"
      ],
      "text/plain": [
       "   Unnamed: 0                 name  rating         reviews  \\\n",
       "0           0        IndusInd Bank     3.8  (6.6k Reviews)   \n",
       "1           1        Ernst & Young     3.8  (6.2k Reviews)   \n",
       "2           2       DXC Technology     3.9    (7k Reviews)   \n",
       "3           3  Hinduja Global S...     4.0    (6k Reviews)   \n",
       "4           4          Infosys BPM     4.0  (5.8k Reviews)   \n",
       "\n",
       "                              company_type  \\\n",
       "0                                   Public   \n",
       "1                                  Private   \n",
       "2                                   Public   \n",
       "3                                   Public   \n",
       "4  Bangalore/Bengaluru,Karnataka + 48 more   \n",
       "\n",
       "                             Head_Quarters                Company_Age  \\\n",
       "0      Gurgaon/Gurugram,Haryana + 556 more               29 years old   \n",
       "1                         London + 72 more               21 years old   \n",
       "2                   Minato,Tokyo + 55 more                6 years old   \n",
       "3  Bangalore/Bengaluru,Karnataka + 72 more               23 years old   \n",
       "4                             21 years old  10k-50k Employees (India)   \n",
       "\n",
       "              No_of_Employee  \n",
       "0  10k-50k Employees (India)  \n",
       "1  10k-50k Employees (India)  \n",
       "2  10k-50k Employees (India)  \n",
       "3  10k-50k Employees (India)  \n",
       "4                        NaN  "
      ]
     },
     "execution_count": 24,
     "metadata": {},
     "output_type": "execute_result"
    }
   ],
   "source": [
    "df.head()"
   ]
  },
  {
   "cell_type": "code",
   "execution_count": 8,
   "id": "32b4be1b",
   "metadata": {},
   "outputs": [
    {
     "name": "stdout",
     "output_type": "stream",
     "text": [
      "Collecting pandas-profiling\n",
      "  Using cached pandas_profiling-3.6.2-py2.py3-none-any.whl (328 kB)\n",
      "Requirement already satisfied: tqdm<4.65,>=4.48.2 in c:\\users\\sudhanshu\\anaconda3\\lib\\site-packages (from pandas-profiling) (4.64.1)\n",
      "Collecting visions[type_image_path]==0.7.5\n",
      "  Using cached visions-0.7.5-py3-none-any.whl (102 kB)\n",
      "Collecting htmlmin==0.1.12\n",
      "  Using cached htmlmin-0.1.12.tar.gz (19 kB)\n",
      "  Preparing metadata (setup.py): started\n",
      "  Preparing metadata (setup.py): finished with status 'done'\n",
      "Collecting pydantic<1.11,>=1.8.1\n",
      "  Downloading pydantic-1.10.4-cp39-cp39-win_amd64.whl (2.1 MB)\n",
      "     ---------------------------------------- 2.1/2.1 MB 5.0 MB/s eta 0:00:00\n",
      "Requirement already satisfied: seaborn<0.13,>=0.10.1 in c:\\users\\sudhanshu\\anaconda3\\lib\\site-packages (from pandas-profiling) (0.11.2)\n",
      "Collecting multimethod<1.10,>=1.4\n",
      "  Using cached multimethod-1.9.1-py3-none-any.whl (10 kB)\n",
      "Requirement already satisfied: statsmodels<0.14,>=0.13.2 in c:\\users\\sudhanshu\\anaconda3\\lib\\site-packages (from pandas-profiling) (0.13.2)\n",
      "Requirement already satisfied: requests<2.29,>=2.24.0 in c:\\users\\sudhanshu\\anaconda3\\lib\\site-packages (from pandas-profiling) (2.28.1)\n",
      "Requirement already satisfied: matplotlib<3.7,>=3.2 in c:\\users\\sudhanshu\\anaconda3\\lib\\site-packages (from pandas-profiling) (3.5.2)\n",
      "Requirement already satisfied: PyYAML<6.1,>=5.0.0 in c:\\users\\sudhanshu\\anaconda3\\lib\\site-packages (from pandas-profiling) (6.0)\n",
      "Requirement already satisfied: scipy<1.10,>=1.4.1 in c:\\users\\sudhanshu\\anaconda3\\lib\\site-packages (from pandas-profiling) (1.9.1)\n",
      "Requirement already satisfied: jinja2<3.2,>=2.11.1 in c:\\users\\sudhanshu\\anaconda3\\lib\\site-packages (from pandas-profiling) (2.11.3)\n",
      "Requirement already satisfied: numpy<1.24,>=1.16.0 in c:\\users\\sudhanshu\\anaconda3\\lib\\site-packages (from pandas-profiling) (1.21.5)\n",
      "Collecting typeguard<2.14,>=2.13.2\n",
      "  Using cached typeguard-2.13.3-py3-none-any.whl (17 kB)\n",
      "Collecting phik<0.13,>=0.11.1\n",
      "  Downloading phik-0.12.3-cp39-cp39-win_amd64.whl (663 kB)\n",
      "     ------------------------------------- 663.5/663.5 kB 40.8 MB/s eta 0:00:00\n",
      "Requirement already satisfied: pandas!=1.4.0,<1.6,>1.1 in c:\\users\\sudhanshu\\anaconda3\\lib\\site-packages (from pandas-profiling) (1.4.4)\n",
      "Collecting tangled-up-in-unicode>=0.0.4\n",
      "  Using cached tangled_up_in_unicode-0.2.0-py3-none-any.whl (4.7 MB)\n",
      "Requirement already satisfied: attrs>=19.3.0 in c:\\users\\sudhanshu\\anaconda3\\lib\\site-packages (from visions[type_image_path]==0.7.5->pandas-profiling) (21.4.0)\n",
      "Requirement already satisfied: networkx>=2.4 in c:\\users\\sudhanshu\\anaconda3\\lib\\site-packages (from visions[type_image_path]==0.7.5->pandas-profiling) (2.8.4)\n",
      "Requirement already satisfied: Pillow in c:\\users\\sudhanshu\\anaconda3\\lib\\site-packages (from visions[type_image_path]==0.7.5->pandas-profiling) (9.2.0)\n",
      "Collecting imagehash\n",
      "  Using cached ImageHash-4.3.1-py2.py3-none-any.whl (296 kB)\n",
      "Requirement already satisfied: MarkupSafe>=0.23 in c:\\users\\sudhanshu\\anaconda3\\lib\\site-packages (from jinja2<3.2,>=2.11.1->pandas-profiling) (2.0.1)\n",
      "Requirement already satisfied: pyparsing>=2.2.1 in c:\\users\\sudhanshu\\anaconda3\\lib\\site-packages (from matplotlib<3.7,>=3.2->pandas-profiling) (3.0.9)\n",
      "Requirement already satisfied: cycler>=0.10 in c:\\users\\sudhanshu\\anaconda3\\lib\\site-packages (from matplotlib<3.7,>=3.2->pandas-profiling) (0.11.0)\n",
      "Requirement already satisfied: packaging>=20.0 in c:\\users\\sudhanshu\\anaconda3\\lib\\site-packages (from matplotlib<3.7,>=3.2->pandas-profiling) (21.3)\n",
      "Requirement already satisfied: python-dateutil>=2.7 in c:\\users\\sudhanshu\\anaconda3\\lib\\site-packages (from matplotlib<3.7,>=3.2->pandas-profiling) (2.8.2)\n",
      "Requirement already satisfied: fonttools>=4.22.0 in c:\\users\\sudhanshu\\anaconda3\\lib\\site-packages (from matplotlib<3.7,>=3.2->pandas-profiling) (4.25.0)\n",
      "Requirement already satisfied: kiwisolver>=1.0.1 in c:\\users\\sudhanshu\\anaconda3\\lib\\site-packages (from matplotlib<3.7,>=3.2->pandas-profiling) (1.4.2)\n",
      "Requirement already satisfied: pytz>=2020.1 in c:\\users\\sudhanshu\\anaconda3\\lib\\site-packages (from pandas!=1.4.0,<1.6,>1.1->pandas-profiling) (2022.1)\n",
      "Requirement already satisfied: joblib>=0.14.1 in c:\\users\\sudhanshu\\anaconda3\\lib\\site-packages (from phik<0.13,>=0.11.1->pandas-profiling) (1.1.0)\n",
      "Requirement already satisfied: typing-extensions>=4.2.0 in c:\\users\\sudhanshu\\anaconda3\\lib\\site-packages (from pydantic<1.11,>=1.8.1->pandas-profiling) (4.3.0)\n",
      "Requirement already satisfied: charset-normalizer<3,>=2 in c:\\users\\sudhanshu\\anaconda3\\lib\\site-packages (from requests<2.29,>=2.24.0->pandas-profiling) (2.0.4)\n",
      "Requirement already satisfied: idna<4,>=2.5 in c:\\users\\sudhanshu\\anaconda3\\lib\\site-packages (from requests<2.29,>=2.24.0->pandas-profiling) (3.3)\n",
      "Requirement already satisfied: certifi>=2017.4.17 in c:\\users\\sudhanshu\\anaconda3\\lib\\site-packages (from requests<2.29,>=2.24.0->pandas-profiling) (2022.9.14)\n",
      "Requirement already satisfied: urllib3<1.27,>=1.21.1 in c:\\users\\sudhanshu\\anaconda3\\lib\\site-packages (from requests<2.29,>=2.24.0->pandas-profiling) (1.26.11)\n",
      "Requirement already satisfied: patsy>=0.5.2 in c:\\users\\sudhanshu\\anaconda3\\lib\\site-packages (from statsmodels<0.14,>=0.13.2->pandas-profiling) (0.5.2)\n",
      "Requirement already satisfied: colorama in c:\\users\\sudhanshu\\anaconda3\\lib\\site-packages (from tqdm<4.65,>=4.48.2->pandas-profiling) (0.4.5)\n",
      "Requirement already satisfied: six in c:\\users\\sudhanshu\\anaconda3\\lib\\site-packages (from patsy>=0.5.2->statsmodels<0.14,>=0.13.2->pandas-profiling) (1.16.0)\n",
      "Requirement already satisfied: PyWavelets in c:\\users\\sudhanshu\\anaconda3\\lib\\site-packages (from imagehash->visions[type_image_path]==0.7.5->pandas-profiling) (1.3.0)\n",
      "Building wheels for collected packages: htmlmin\n",
      "  Building wheel for htmlmin (setup.py): started\n",
      "  Building wheel for htmlmin (setup.py): finished with status 'done'\n",
      "  Created wheel for htmlmin: filename=htmlmin-0.1.12-py3-none-any.whl size=27082 sha256=6fd7c4f71a419b7f94c57b69e37eb6d2d8adfe80a44196d310bf8e0d4dff91f8\n",
      "  Stored in directory: c:\\users\\sudhanshu\\appdata\\local\\pip\\cache\\wheels\\1d\\05\\04\\c6d7d3b66539d9e659ac6dfe81e2d0fd4c1a8316cc5a403300\n",
      "Successfully built htmlmin\n",
      "Installing collected packages: htmlmin, typeguard, tangled-up-in-unicode, pydantic, multimethod, imagehash, visions, phik, pandas-profiling\n",
      "Successfully installed htmlmin-0.1.12 imagehash-4.3.1 multimethod-1.9.1 pandas-profiling-3.6.2 phik-0.12.3 pydantic-1.10.4 tangled-up-in-unicode-0.2.0 typeguard-2.13.3 visions-0.7.5\n"
     ]
    }
   ],
   "source": [
    "!pip install pandas-profiling\n",
    "#from pandas_profiling import profileReport"
   ]
  },
  {
   "cell_type": "code",
   "execution_count": 11,
   "id": "f8c7ea3a",
   "metadata": {},
   "outputs": [],
   "source": [
    "from pandas_profiling import ProfileReport"
   ]
  },
  {
   "cell_type": "code",
   "execution_count": 13,
   "id": "eb9d9e89",
   "metadata": {},
   "outputs": [],
   "source": [
    "prof = ProfileReport(df)"
   ]
  },
  {
   "cell_type": "code",
   "execution_count": 14,
   "id": "3a1e1f56",
   "metadata": {},
   "outputs": [
    {
     "data": {
      "application/vnd.jupyter.widget-view+json": {
       "model_id": "887b59badf7248859f510d0d7aec0633",
       "version_major": 2,
       "version_minor": 0
      },
      "text/plain": [
       "Summarize dataset:   0%|          | 0/5 [00:00<?, ?it/s]"
      ]
     },
     "metadata": {},
     "output_type": "display_data"
    },
    {
     "data": {
      "application/vnd.jupyter.widget-view+json": {
       "model_id": "6f0737e8f0764ffea36687e2963b9be1",
       "version_major": 2,
       "version_minor": 0
      },
      "text/plain": [
       "Generate report structure:   0%|          | 0/1 [00:00<?, ?it/s]"
      ]
     },
     "metadata": {},
     "output_type": "display_data"
    },
    {
     "data": {
      "application/vnd.jupyter.widget-view+json": {
       "model_id": "bb9dda1f3bc04a9bab9e547404ddbfc4",
       "version_major": 2,
       "version_minor": 0
      },
      "text/plain": [
       "Render HTML:   0%|          | 0/1 [00:00<?, ?it/s]"
      ]
     },
     "metadata": {},
     "output_type": "display_data"
    },
    {
     "data": {
      "application/vnd.jupyter.widget-view+json": {
       "model_id": "1db54ced9b6747caad78f05f721724be",
       "version_major": 2,
       "version_minor": 0
      },
      "text/plain": [
       "Export report to file:   0%|          | 0/1 [00:00<?, ?it/s]"
      ]
     },
     "metadata": {},
     "output_type": "display_data"
    }
   ],
   "source": [
    "prof.to_file(output_file='profile.html')"
   ]
  }
 ],
 "metadata": {
  "kernelspec": {
   "display_name": "Python 3 (ipykernel)",
   "language": "python",
   "name": "python3"
  },
  "language_info": {
   "codemirror_mode": {
    "name": "ipython",
    "version": 3
   },
   "file_extension": ".py",
   "mimetype": "text/x-python",
   "name": "python",
   "nbconvert_exporter": "python",
   "pygments_lexer": "ipython3",
   "version": "3.9.13"
  }
 },
 "nbformat": 4,
 "nbformat_minor": 5
}
